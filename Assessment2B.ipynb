{
 "cells": [
  {
   "cell_type": "markdown",
   "metadata": {},
   "source": [
    "###### Assessment"
   ]
  },
  {
   "cell_type": "markdown",
   "metadata": {},
   "source": [
    "###### I am going to provide two .csv files , you are supposed to work on them and have to provide solutions to the following problems"
   ]
  },
  {
   "cell_type": "markdown",
   "metadata": {},
   "source": [
    "###### import necessary libraries"
   ]
  },
  {
   "cell_type": "code",
   "execution_count": 4,
   "metadata": {},
   "outputs": [],
   "source": [
    "# importing pandas\n",
    "import pandas as pd"
   ]
  },
  {
   "cell_type": "markdown",
   "metadata": {},
   "source": [
    "###### merge those two csv files (after getting as dataframes, get them as a single dataframe)"
   ]
  },
  {
   "cell_type": "code",
   "execution_count": 5,
   "metadata": {},
   "outputs": [
    {
     "name": "stdout",
     "output_type": "stream",
     "text": [
      "              Name  python  mysql  Previous Geekions  CodeKata Score  \\\n",
      "0        A.Dharani    82.0   20.0              24500           24500   \n",
      "1      V.JEEVITHA     82.0   20.0              21740           21740   \n",
      "2      HEMAVATHI.R   100.0  100.0              19680           19680   \n",
      "3      Mugunthan S   100.0   47.0              10610           10610   \n",
      "4      Sathammai.S   100.0    8.0               8980            8980   \n",
      "..             ...     ...    ...                ...             ...   \n",
      "114  praveen raj j    24.0    0.0               2380            2380   \n",
      "115     AMARNATH D    -1.0   12.0               1890            1890   \n",
      "116           bala    32.0    0.0               1720            1720   \n",
      "117           XY Z    -1.0   -1.0                  0               0   \n",
      "118      Hariharan    -1.0   -1.0                  0               0   \n",
      "\n",
      "                                    Department  Rising  python_en  \\\n",
      "0             Computer Science and Engineering       0        NaN   \n",
      "1             Computer Science and Engineering       0        NaN   \n",
      "2             Computer Science and Engineering       0        NaN   \n",
      "3             Computer Science and Engineering       0        NaN   \n",
      "4             Computer Science and Engineering       0        NaN   \n",
      "..                                         ...     ...        ...   \n",
      "114           Computer Science and Engineering       0       -1.0   \n",
      "115  Electronics and Communication Engineering       0       52.0   \n",
      "116  Electronics and Communication Engineering       0       49.0   \n",
      "117           Computer Science and Engineering       0       20.0   \n",
      "118           Computer Science and Engineering       0       -1.0   \n",
      "\n",
      "     computational_thinking  \n",
      "0                       NaN  \n",
      "1                       NaN  \n",
      "2                       NaN  \n",
      "3                       NaN  \n",
      "4                       NaN  \n",
      "..                      ...  \n",
      "114                     0.0  \n",
      "115                    -1.0  \n",
      "116                    -1.0  \n",
      "117                    -1.0  \n",
      "118                     0.0  \n",
      "\n",
      "[119 rows x 9 columns]\n"
     ]
    }
   ],
   "source": [
    "\n",
    "#a=pd.read_csv(\"college_1.csv\") #read csv file\n",
    "# #print(a)\n",
    "#b=pd.read_csv(\"college_2.csv\") #read csv file\n",
    "#print(b)\n",
    "df_college = pd.concat(map(pd.read_csv, ['college_1.csv', 'college_2.csv']), ignore_index=True) # merging two csv files\n",
    "print(df_college)"
   ]
  },
  {
   "cell_type": "markdown",
   "metadata": {},
   "source": [
    "###### Take each csv file , split that csv file into multiple categories (example csv files are added in the repo) \n"
   ]
  },
  {
   "cell_type": "markdown",
   "metadata": {},
   "source": [
    "###### consider if the codekata score exceeds 15000 points(present week) then make a csv on those observations as Exceeded expectations.csv\n"
   ]
  },
  {
   "cell_type": "code",
   "execution_count": null,
   "metadata": {},
   "outputs": [],
   "source": [
    "##  if codekata score>15000 points (Exceeded expectations.csv)\n",
    "exc_exp=df_college[df_college['CodeKata Score']>int(15000)]\n",
    "exc_exp.to_csv('Exceeded_expectations.csv', index=False)"
   ]
  },
  {
   "cell_type": "markdown",
   "metadata": {},
   "source": [
    "###### if  10000<codekata score<15000   (Reached_expectations.csv)\n",
    "\n"
   ]
  },
  {
   "cell_type": "code",
   "execution_count": null,
   "metadata": {},
   "outputs": [],
   "source": [
    "## if  10000<codekata score<15000  (Reached_expectations.csv)\n",
    "rea_exp=df_college[(df_college['CodeKata Score']>10000) & (df_college['CodeKata Score']<15000)]\n",
    "rea_exp.to_csv('Reached_expectations.csv', index=False)"
   ]
  },
  {
   "cell_type": "markdown",
   "metadata": {},
   "source": [
    "###### if  7000<codekata score<10000   (Needs_Improvement.csv)\n"
   ]
  },
  {
   "cell_type": "code",
   "execution_count": null,
   "metadata": {},
   "outputs": [],
   "source": [
    "## if  7000<codekata score<10000  (Needs_Improvement.csv)\n",
    "need_imp=df_college[(df_college['CodeKata Score']>7000) & (df_college['CodeKata Score']<10000)]\n",
    "need_imp.to_csv('Needs_Improvement.csv', index=False)"
   ]
  },
  {
   "cell_type": "markdown",
   "metadata": {},
   "source": [
    "###### if  codekate score < 7000        (Unsatisfactory.csv)"
   ]
  },
  {
   "cell_type": "code",
   "execution_count": null,
   "metadata": {},
   "outputs": [],
   "source": [
    "## if  codekate score < 7000    (Unsatisfactory.csv)\n",
    "unsat=df_college[df_college['CodeKata Score']<=int(7000)]\n",
    "unsat.to_csv('Unsatisfactory.csv', index=False)"
   ]
  },
  {
   "cell_type": "markdown",
   "metadata": {},
   "source": [
    "###### Average of previous week geekions vs this week geekions (i.e Previous Geekions vs CodeKata Score)"
   ]
  },
  {
   "cell_type": "code",
   "execution_count": 46,
   "metadata": {},
   "outputs": [
    {
     "name": "stdout",
     "output_type": "stream",
     "text": [
      "Average of CodeKata Score : 4051.764705882353\n",
      "Average of Previous Geekions : 3842.3529411764707\n"
     ]
    }
   ],
   "source": [
    "## Average of previous week geekions vs this week geekions (i.e Previous Geekions vs CodeKata Score)\n",
    "avg_codekata_score=df_college['CodeKata Score'].mean()\n",
    "print(\"Average of CodeKata Score :\",avg_codekata_score)\n",
    "\n",
    "avg_previous_geekions=df_college['Previous Geekions'].mean()\n",
    "print(\"Average of Previous Geekions :\",avg_previous_geekions)\n"
   ]
  },
  {
   "cell_type": "markdown",
   "metadata": {},
   "source": [
    "###### No of students participated "
   ]
  },
  {
   "cell_type": "code",
   "execution_count": 56,
   "metadata": {},
   "outputs": [
    {
     "name": "stdout",
     "output_type": "stream",
     "text": [
      "No of students participated : 119\n"
     ]
    }
   ],
   "source": [
    "print(\"No of students participated :\",df_college.shape[0] )"
   ]
  },
  {
   "cell_type": "markdown",
   "metadata": {},
   "source": [
    "###### #Average completion of python course or my_sql or python english or computational thinking"
   ]
  },
  {
   "cell_type": "code",
   "execution_count": 58,
   "metadata": {},
   "outputs": [
    {
     "name": "stdout",
     "output_type": "stream",
     "text": [
      "Average completion of python course : 54.35294117647059\n",
      "Average completion of my_sql : 23.5\n",
      "Average completion of python english : 29.65714285714286\n",
      "Average completion of computational thinking : 2.2\n"
     ]
    }
   ],
   "source": [
    "##  Average completion of python course\n",
    "avg_compl_python_course=df_college['python'].mean()\n",
    "print(\"Average completion of python course :\",avg_compl_python_course)\n",
    "\n",
    "##  Average completion of my_sql\n",
    "avg_compl_my_sql=df_college['mysql'].mean()\n",
    "print(\"Average completion of my_sql :\",avg_compl_my_sql)\n",
    "\n",
    "##  Average completion of python english\n",
    "avg_compl_english=df_college['python_en'].mean()\n",
    "print(\"Average completion of python english :\",avg_compl_english)\n",
    "\n",
    "##  Average completion of computational thinking\n",
    "avg_compl_computational_thinking=df_college['computational_thinking'].mean()\n",
    "print(\"Average completion of computational thinking :\",avg_compl_computational_thinking)"
   ]
  },
  {
   "cell_type": "markdown",
   "metadata": {},
   "source": [
    "###### rising star of the week (top 3 candidate who performed well in that particular week)"
   ]
  },
  {
   "cell_type": "code",
   "execution_count": 7,
   "metadata": {},
   "outputs": [
    {
     "data": {
      "text/html": [
       "<div>\n",
       "<style scoped>\n",
       "    .dataframe tbody tr th:only-of-type {\n",
       "        vertical-align: middle;\n",
       "    }\n",
       "\n",
       "    .dataframe tbody tr th {\n",
       "        vertical-align: top;\n",
       "    }\n",
       "\n",
       "    .dataframe thead th {\n",
       "        text-align: right;\n",
       "    }\n",
       "</style>\n",
       "<table border=\"1\" class=\"dataframe\">\n",
       "  <thead>\n",
       "    <tr style=\"text-align: right;\">\n",
       "      <th></th>\n",
       "      <th>Name</th>\n",
       "      <th>CodeKata Score</th>\n",
       "    </tr>\n",
       "  </thead>\n",
       "  <tbody>\n",
       "    <tr>\n",
       "      <th>0</th>\n",
       "      <td>A.Dharani</td>\n",
       "      <td>24500</td>\n",
       "    </tr>\n",
       "    <tr>\n",
       "      <th>1</th>\n",
       "      <td>V.JEEVITHA</td>\n",
       "      <td>21740</td>\n",
       "    </tr>\n",
       "    <tr>\n",
       "      <th>2</th>\n",
       "      <td>HEMAVATHI.R</td>\n",
       "      <td>19680</td>\n",
       "    </tr>\n",
       "  </tbody>\n",
       "</table>\n",
       "</div>"
      ],
      "text/plain": [
       "          Name  CodeKata Score\n",
       "0    A.Dharani           24500\n",
       "1  V.JEEVITHA            21740\n",
       "2  HEMAVATHI.R           19680"
      ]
     },
     "execution_count": 7,
     "metadata": {},
     "output_type": "execute_result"
    }
   ],
   "source": [
    "df_college[['Name', 'CodeKata Score']].sort_values(['CodeKata Score'], ascending=False).head(3)"
   ]
  },
  {
   "cell_type": "markdown",
   "metadata": {},
   "source": [
    "###### Shining stars of the week (top 3 candidates who has highest geekions)"
   ]
  },
  {
   "cell_type": "code",
   "execution_count": 10,
   "metadata": {},
   "outputs": [
    {
     "data": {
      "text/html": [
       "<div>\n",
       "<style scoped>\n",
       "    .dataframe tbody tr th:only-of-type {\n",
       "        vertical-align: middle;\n",
       "    }\n",
       "\n",
       "    .dataframe tbody tr th {\n",
       "        vertical-align: top;\n",
       "    }\n",
       "\n",
       "    .dataframe thead th {\n",
       "        text-align: right;\n",
       "    }\n",
       "</style>\n",
       "<table border=\"1\" class=\"dataframe\">\n",
       "  <thead>\n",
       "    <tr style=\"text-align: right;\">\n",
       "      <th></th>\n",
       "      <th>Name</th>\n",
       "      <th>Previous Geekions</th>\n",
       "    </tr>\n",
       "  </thead>\n",
       "  <tbody>\n",
       "    <tr>\n",
       "      <th>0</th>\n",
       "      <td>A.Dharani</td>\n",
       "      <td>24500</td>\n",
       "    </tr>\n",
       "    <tr>\n",
       "      <th>1</th>\n",
       "      <td>V.JEEVITHA</td>\n",
       "      <td>21740</td>\n",
       "    </tr>\n",
       "    <tr>\n",
       "      <th>2</th>\n",
       "      <td>HEMAVATHI.R</td>\n",
       "      <td>19680</td>\n",
       "    </tr>\n",
       "  </tbody>\n",
       "</table>\n",
       "</div>"
      ],
      "text/plain": [
       "          Name  Previous Geekions\n",
       "0    A.Dharani              24500\n",
       "1  V.JEEVITHA               21740\n",
       "2  HEMAVATHI.R              19680"
      ]
     },
     "execution_count": 10,
     "metadata": {},
     "output_type": "execute_result"
    }
   ],
   "source": [
    "df_college[['Name', 'Previous Geekions']].sort_values(['Previous Geekions'], ascending=False).head(3)"
   ]
  },
  {
   "cell_type": "markdown",
   "metadata": {},
   "source": [
    "###### Department wise codekata performence (pie chart)"
   ]
  },
  {
   "cell_type": "code",
   "execution_count": 21,
   "metadata": {},
   "outputs": [
    {
     "data": {
      "image/png": "[encoded data removed]",
      "text/plain": [
       "<Figure size 864x864 with 1 Axes>"
      ]
     },
     "metadata": {},
     "output_type": "display_data"
    }
   ],
   "source": [
    "df = pd.DataFrame({'mean': [54.352941,23.500000,3842.352941,4051.764706,209.411765,29.657143,2.200000]},\n",
    "                  index=['python','mysql','Previous Geekions','CodeKata Score','Rising','python_en','computational_thinking'])\n",
    "plot = df.plot.pie(y='mean', figsize=(12,12))"
   ]
  },
  {
   "cell_type": "markdown",
   "metadata": {},
   "source": [
    "###### Department wise toppers (horizantal bar graph or any visual representations of your choice)"
   ]
  },
  {
   "cell_type": "code",
   "execution_count": 24,
   "metadata": {},
   "outputs": [
    {
     "name": "stdout",
     "output_type": "stream",
     "text": [
      "       Name  python\n",
      "24  MEERA.M   100.0\n",
      "             Name  mysql\n",
      "28  pooja priya.B  100.0\n",
      "           Name  python_en\n",
      "93      Balaji       100.0\n",
      "88    VIINU V P      100.0\n",
      "89   Poojitha Y       78.0\n",
      "        Name  computational_thinking\n",
      "100  Guhan S                    39.0\n",
      "        Name  Rising\n",
      "92  shifak N    3140\n"
     ]
    },
    {
     "data": {
      "image/png": "[encoded data removed]",
      "text/plain": [
       "<Figure size 432x288 with 1 Axes>"
      ]
     },
     "metadata": {
      "needs_background": "light"
     },
     "output_type": "display_data"
    }
   ],
   "source": [
    "py_top=df_college[['Name', 'python']].sort_values(['python'], ascending=False).head(1)\n",
    "mysql_top=df_college[['Name', 'mysql']].sort_values(['mysql'], ascending=False).head(1)\n",
    "previ_geekon_top=df_college[['Name', 'Previous Geekions']].sort_values(['Previous Geekions'], ascending=False).head(1)\n",
    "codekata_top=df_college[['Name', 'CodeKata Score']].sort_values(['CodeKata Score'], ascending=False).head(1)\n",
    "py_en_top=df_college[['Name', 'python_en']].sort_values(['python_en'], ascending=False).head(3)\n",
    "compu_think_top=df_college[['Name', 'computational_thinking']].sort_values(['computational_thinking'], ascending=False).head(1)\n",
    "ris_top=df_college[['Name', 'Rising']].sort_values(['Rising'], ascending=False).head(1)\n",
    "print(py_top)\n",
    "print(mysql_top)\n",
    "#print(previ_geekon_top)\n",
    "#print(codekata_top)\n",
    "print(py_en_top)\n",
    "print(compu_think_top)\n",
    "print(ris_top)\n",
    "\n",
    "df = pd.DataFrame({'Name': ['py_top','mysql_top','py_en_top','compu_think_top'], 'Topper': [100, 100,100,39]})\n",
    "ax = df.plot.barh(x='Name', y='Topper')"
   ]
  }
 ],
 "metadata": {
  "kernelspec": {
   "display_name": "Python 3.10.4 64-bit",
   "language": "python",
   "name": "python3"
  },
  "language_info": {
   "codemirror_mode": {
    "name": "ipython",
    "version": 3
   },
   "file_extension": ".py",
   "mimetype": "text/x-python",
   "name": "python",
   "nbconvert_exporter": "python",
   "pygments_lexer": "ipython3",
   "version": "3.10.4"
  },
  "vscode": {
   "interpreter": {
    "hash": "c59a870ed50f6e263a9e561f34ab14161f26ba97185e2fa72a20f16444efbb72"
   }
  }
 },
 "nbformat": 4,
 "nbformat_minor": 2
}
